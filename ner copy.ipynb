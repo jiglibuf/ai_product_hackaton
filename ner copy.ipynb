{
 "cells": [
  {
   "cell_type": "code",
   "execution_count": 9,
   "metadata": {},
   "outputs": [],
   "source": [
    "import spacy\n",
    "import pandas as pd\n",
    "import json"
   ]
  },
  {
   "cell_type": "code",
   "execution_count": 17,
   "metadata": {},
   "outputs": [
    {
     "name": "stdout",
     "output_type": "stream",
     "text": [
      "{'text': 'ЛЮСТРА БРИЗ 6E27X6X60W 6X3W LED ХР ПУЛЬТ', 'entities': [(0, 6, 'люстры под лампу (интерьер внут')]}\n"
     ]
    }
   ],
   "source": [
    "\n",
    "\n",
    "\n",
    "def xlsx_to_jsonl_with_entities(input_file, output_file):\n",
    "    # Чтение Excel файла\n",
    "    xls = pd.ExcelFile(input_file)\n",
    "    sheets = xls.sheet_names\n",
    "    \n",
    "    # Список для хранения JSON Lines\n",
    "    json_lines = []\n",
    "    \n",
    "    for sheet in sheets:\n",
    "        # Чтение данных с текущего листа\n",
    "        df = pd.read_excel(input_file, sheet_name=sheet)\n",
    "        \n",
    "        # Формирование JSON Lines\n",
    "        for _, row in df.iterrows():\n",
    "            text = row['Название товара']\n",
    "            words = text.split()\n",
    "            \n",
    "            if words:\n",
    "                first_word = words[0]\n",
    "                start_idx = text.index(first_word)\n",
    "                end_idx = start_idx + len(first_word)\n",
    "                \n",
    "                entities = [(start_idx, end_idx, sheet)]\n",
    "                \n",
    "                json_obj = {\n",
    "                    \"text\": text,\n",
    "                    \"entities\": entities\n",
    "                }\n",
    "                # print(json_obj, )\n",
    "                json_lines.append(json_obj)\n",
    "    # # Запись в JSON Lines файл\n",
    "    # with open(output_file, 'w', encoding='utf-8') as f:\n",
    "    #     for line in json_lines:\n",
    "    #         f.write(json.dumps(line, ensure_ascii=False) + '\\n')\n",
    "    return json_lines\n",
    "# Пример использования функции\n",
    "input_file = 'dataset_LM_освещение.xlsx'  # Замените на ваше имя файла\n",
    "output_file = 'output_with_entities.jsonl'\n",
    "ner_markup_data = xlsx_to_jsonl_with_entities(input_file, output_file)\n",
    "print(ner_markup_data[0])"
   ]
  },
  {
   "cell_type": "code",
   "execution_count": 18,
   "metadata": {},
   "outputs": [],
   "source": [
    "from spacy.tokens import DocBin\n",
    "from tqdm import tqdm\n",
    "\n",
    "nlp = spacy.blank(\"en\") # load a new spacy model\n",
    "doc_bin = DocBin()"
   ]
  },
  {
   "cell_type": "code",
   "execution_count": 19,
   "metadata": {},
   "outputs": [
    {
     "name": "stderr",
     "output_type": "stream",
     "text": [
      "100%|██████████| 5279/5279 [00:00<00:00, 11828.39it/s]\n"
     ]
    }
   ],
   "source": [
    "from spacy.util import filter_spans\n",
    "\n",
    "for training_example  in tqdm(ner_markup_data): \n",
    "    text = training_example['text']\n",
    "    labels = training_example['entities']\n",
    "    doc = nlp.make_doc(text) \n",
    "    ents = []\n",
    "    for start, end, label in labels:\n",
    "        span = doc.char_span(start, end, label=label, alignment_mode=\"contract\")\n",
    "        if span is None:\n",
    "            print(\"Skipping entity\")\n",
    "        else:\n",
    "            ents.append(span)\n",
    "    filtered_ents = filter_spans(ents)\n",
    "    doc.ents = filtered_ents \n",
    "    doc_bin.add(doc)\n",
    "\n",
    "doc_bin.to_disk(\"train.spacy\") \n",
    "     "
   ]
  },
  {
   "cell_type": "code",
   "execution_count": 21,
   "metadata": {},
   "outputs": [
    {
     "name": "stdout",
     "output_type": "stream",
     "text": [
      "\u001b[38;5;2m✔ Auto-filled config with all values\u001b[0m\n",
      "\u001b[38;5;2m✔ Saved config\u001b[0m\n",
      "config.cfg\n",
      "You can now add your data and train your pipeline:\n",
      "python -m spacy train config.cfg --paths.train ./train.spacy --paths.dev ./dev.spacy\n"
     ]
    }
   ],
   "source": [
    "!python -m spacy init fill-config base_config.cfg config.cfg"
   ]
  },
  {
   "cell_type": "code",
   "execution_count": 22,
   "metadata": {},
   "outputs": [
    {
     "name": "stdout",
     "output_type": "stream",
     "text": [
      "\u001b[38;5;4mℹ Saving to output directory: .\u001b[0m\n",
      "\u001b[38;5;4mℹ Using CPU\u001b[0m\n",
      "\u001b[1m\n",
      "=========================== Initializing pipeline ===========================\u001b[0m\n",
      "\u001b[38;5;2m✔ Initialized pipeline\u001b[0m\n",
      "\u001b[1m\n",
      "============================= Training pipeline =============================\u001b[0m\n",
      "\u001b[38;5;4mℹ Pipeline: ['tok2vec', 'ner']\u001b[0m\n",
      "\u001b[38;5;4mℹ Initial learn rate: 0.001\u001b[0m\n",
      "E    #       LOSS TOK2VEC  LOSS NER  ENTS_F  ENTS_P  ENTS_R  SCORE \n",
      "---  ------  ------------  --------  ------  ------  ------  ------\n",
      "  0       0          0.00     57.47   10.29    5.87   41.64    0.10\n",
      "  0     200         35.41   2026.89   87.42   87.17   87.67    0.87\n",
      "  1     400         54.89    701.76   95.67   96.24   95.11    0.96\n",
      "  2     600         41.20    489.26   96.29   96.29   96.29    0.96\n",
      "  3     800         70.47    464.51   97.69   97.69   97.69    0.98\n",
      "  4    1000        112.96    607.63   97.61   97.61   97.61    0.98\n",
      "  6    1200        128.71    624.24   98.83   98.83   98.83    0.99\n",
      "  7    1400         91.67    341.46   99.55   99.55   99.55    1.00\n",
      " 10    1600        267.16    421.04   98.98   98.98   98.98    0.99\n",
      " 13    1800         62.46    147.08   99.55   99.55   99.55    1.00\n",
      " 16    2000         53.33     69.85  100.00  100.00  100.00    1.00\n",
      " 21    2200          0.30      1.69  100.00  100.00  100.00    1.00\n",
      " 26    2400          0.00      0.00  100.00  100.00  100.00    1.00\n",
      " 31    2600          0.00      0.00  100.00  100.00  100.00    1.00\n",
      " 36    2800          0.00      0.00  100.00  100.00  100.00    1.00\n",
      " 42    3000          0.00      0.00  100.00  100.00  100.00    1.00\n",
      " 47    3200          0.00      0.00  100.00  100.00  100.00    1.00\n",
      " 52    3400          0.00      0.00  100.00  100.00  100.00    1.00\n",
      " 57    3600          0.00      0.00  100.00  100.00  100.00    1.00\n",
      "\u001b[38;5;2m✔ Saved pipeline to output directory\u001b[0m\n",
      "model-last\n"
     ]
    }
   ],
   "source": [
    "\n",
    "!python -m spacy train config.cfg --output ./ --paths.train ./train.spacy --paths.dev ./train.spacy "
   ]
  },
  {
   "cell_type": "code",
   "execution_count": 24,
   "metadata": {},
   "outputs": [],
   "source": [
    "nlp_ner = spacy.load(\"model-best\")"
   ]
  },
  {
   "cell_type": "code",
   "execution_count": 28,
   "metadata": {},
   "outputs": [
    {
     "data": {
      "text/html": [
       "<span class=\"tex2jax_ignore\"><div class=\"entities\" style=\"line-height: 2.5; direction: ltr\">\n",
       "<mark class=\"entity\" style=\"background: #318ce7; padding: 0.45em 0.6em; margin: 0 0.25em; line-height: 1; border-radius: 0.35em;\">\n",
       "    Светильник\n",
       "    <span style=\"font-size: 0.8em; font-weight: bold; line-height: 1; border-radius: 0.35em; vertical-align: middle; margin-left: 0.5rem\">уличные фонари столбы (экстерье</span>\n",
       "</mark>\n",
       " уличный настенный Inspire Lakko LED 1000 Лм 4000 К IP44 цвет серый</div></span>"
      ],
      "text/plain": [
       "<IPython.core.display.HTML object>"
      ]
     },
     "metadata": {},
     "output_type": "display_data"
    }
   ],
   "source": [
    "# doc = nlp_ner(r\"Люстра потолочная светодиодная «Quieto» 1905-2/2 с пультом управления 25 м² регулируемый белый свет цвет белый\")\n",
    "# doc = nlp_ner(r\"Столб уличный Inspire Travis 45 см\")\n",
    "doc = nlp_ner(r\"Светильник уличный настенный Inspire Lakko LED 1000 Лм 4000 К IP44 цвет серый\")\n",
    "\n",
    "colors = {\"люстры под лампу (интерьер внут\": \"#F67DE3\", \"люстры светодиодные (интерьер в\": \"#7DF6D9\", \"уличный светильник под лампу (\":\"#a6e22d\",\"уличный светильник светодиодный\":\"#9966cc\",\"уличные фонари столбы (экстерье\":\"#318ce7\"}\n",
    "options = {\"colors\": colors} \n",
    "\n",
    "spacy.displacy.render(doc, style=\"ent\", options= options, jupyter=True)"
   ]
  }
 ],
 "metadata": {
  "kernelspec": {
   "display_name": "Python 3",
   "language": "python",
   "name": "python3"
  },
  "language_info": {
   "codemirror_mode": {
    "name": "ipython",
    "version": 3
   },
   "file_extension": ".py",
   "mimetype": "text/x-python",
   "name": "python",
   "nbconvert_exporter": "python",
   "pygments_lexer": "ipython3",
   "version": "3.9.13"
  }
 },
 "nbformat": 4,
 "nbformat_minor": 2
}
